{
 "cells": [
  {
   "cell_type": "code",
   "execution_count": 5,
   "metadata": {},
   "outputs": [
    {
     "name": "stdout",
     "output_type": "stream",
     "text": [
      "Collecting xgboost\n",
      "  Downloading xgboost-1.0.2-py3-none-win_amd64.whl (24.6 MB)\n",
      "Requirement already satisfied: numpy in c:\\users\\rawin\\anaconda3\\lib\\site-packages (from xgboost) (1.18.1)\n",
      "Requirement already satisfied: scipy in c:\\users\\rawin\\anaconda3\\lib\\site-packages (from xgboost) (1.4.1)\n",
      "Installing collected packages: xgboost\n",
      "Successfully installed xgboost-1.0.2\n",
      "Note: you may need to restart the kernel to use updated packages.\n"
     ]
    }
   ],
   "source": [
    "pip install xgboost"
   ]
  },
  {
   "cell_type": "code",
   "execution_count": 6,
   "metadata": {
    "colab": {
     "base_uri": "https://localhost:8080/",
     "height": 70
    },
    "colab_type": "code",
    "id": "HrMeRJyNQory",
    "outputId": "e895268e-7088-48c6-bc11-2216dfb7408f"
   },
   "outputs": [],
   "source": [
    "import numpy as np\n",
    "import pandas as pd\n",
    "import matplotlib.ticker as mtick \n",
    "import matplotlib.pyplot as plt\n",
    "import seaborn as sns\n",
    "import datetime as dt\n",
    "\n",
    "from sklearn.model_selection import train_test_split\n",
    "from sklearn.metrics import roc_curve, roc_auc_score, f1_score, accuracy_score\n",
    "from sklearn.preprocessing import MinMaxScaler\n",
    "from sklearn.preprocessing import OneHotEncoder\n",
    "from sklearn.pipeline import Pipeline, FeatureUnion\n",
    "from sklearn.compose import ColumnTransformer\n",
    "from sklearn.metrics import classification_report\n",
    "from sklearn.model_selection import GridSearchCV\n",
    "\n",
    "\n",
    "from sklearn.linear_model import LogisticRegression\n",
    "from sklearn.ensemble import RandomForestClassifier\n",
    "from sklearn.ensemble import GradientBoostingClassifier\n",
    "import xgboost as xgb"
   ]
  },
  {
   "cell_type": "code",
   "execution_count": 8,
   "metadata": {
    "colab": {
     "base_uri": "https://localhost:8080/",
     "height": 50
    },
    "colab_type": "code",
    "id": "JEqtdLmRQxvT",
    "outputId": "b3a320ae-bb3c-4ac5-c91f-5baa3f569a51"
   },
   "outputs": [
    {
     "name": "stderr",
     "output_type": "stream",
     "text": [
      "C:\\Users\\rawin\\Anaconda3\\lib\\site-packages\\IPython\\core\\interactiveshell.py:3063: DtypeWarning: Columns (32) have mixed types.Specify dtype option on import or set low_memory=False.\n",
      "  interactivity=interactivity, compiler=compiler, result=result)\n"
     ]
    }
   ],
   "source": [
    "df = pd.read_csv(\"Price_Rev_Hotel_Clean.csv\", sep = '\\t')"
   ]
  },
  {
   "cell_type": "code",
   "execution_count": 9,
   "metadata": {
    "colab": {
     "base_uri": "https://localhost:8080/",
     "height": 605
    },
    "colab_type": "code",
    "id": "RZfcLefhbmy7",
    "outputId": "85b1debb-3296-47d2-9643-ed1392072ae8"
   },
   "outputs": [
    {
     "data": {
      "text/plain": [
       "Unnamed: 0                          int64\n",
       "hotel                              object\n",
       "is_canceled                         int64\n",
       "lead_time                           int64\n",
       "arrival_date_year                   int64\n",
       "arrival_date_month                 object\n",
       "arrival_date_week_number            int64\n",
       "arrival_date_day_of_month           int64\n",
       "stays_in_weekend_nights             int64\n",
       "stays_in_week_nights                int64\n",
       "adults                              int64\n",
       "children                          float64\n",
       "babies                              int64\n",
       "meal                               object\n",
       "country                            object\n",
       "market_segment                     object\n",
       "distribution_channel               object\n",
       "is_repeated_guest                   int64\n",
       "previous_cancellations              int64\n",
       "previous_bookings_not_canceled      int64\n",
       "reserved_room_type                 object\n",
       "assigned_room_type                 object\n",
       "booking_changes                     int64\n",
       "deposit_type                       object\n",
       "agent                             float64\n",
       "days_in_waiting_list                int64\n",
       "customer_type                      object\n",
       "adr                               float64\n",
       "required_car_parking_spaces         int64\n",
       "total_of_special_requests           int64\n",
       "reservation_status                 object\n",
       "reservation_status_date            object\n",
       "YR_MNTH_ind                        object\n",
       "number_of_guests                  float64\n",
       "dtype: object"
      ]
     },
     "execution_count": 9,
     "metadata": {},
     "output_type": "execute_result"
    }
   ],
   "source": [
    "df.dtypes"
   ]
  },
  {
   "cell_type": "code",
   "execution_count": 0,
   "metadata": {
    "colab": {},
    "colab_type": "code",
    "id": "AFihNv2gZtID"
   },
   "outputs": [],
   "source": [
    "df = df.drop(['Unnamed: 0','YR_MNTH_ind'], axis=1)"
   ]
  },
  {
   "cell_type": "markdown",
   "metadata": {
    "colab_type": "text",
    "id": "fg3BhwXqe9UM"
   },
   "source": [
    "Using all the variables in the model gives a high accuracy. But in the interest of generalizing the model to work for customers about whom we might not have as much information, we will manually remove some columns.\n",
    "\n",
    "Number of guests is removed since its a column that was added based on other columns in the dataset. \n",
    "Previous cancellations and bookings not cancelled were removed since the hotels will not have this information for first time customers.\n",
    "Reservation status is a feature that captures the last known status of the reservation. Since this can give a clear indication of whether the booking is already cancelled or not, it was removed."
   ]
  },
  {
   "cell_type": "code",
   "execution_count": 0,
   "metadata": {
    "colab": {},
    "colab_type": "code",
    "id": "GfVz3Cm9YF-x"
   },
   "outputs": [],
   "source": [
    "numerical_variables = df.select_dtypes(include=['int64', 'float64']).drop(['is_canceled','number_of_guests',\n",
    "                                                                           'previous_cancellations','previous_bookings_not_canceled'], axis=1).columns\n",
    "categorical_variables = df.select_dtypes(include=['object']).drop(['reservation_status'], axis=1).columns"
   ]
  },
  {
   "cell_type": "code",
   "execution_count": 0,
   "metadata": {
    "colab": {},
    "colab_type": "code",
    "id": "re_kfIYEiZ_i"
   },
   "outputs": [],
   "source": [
    "numeric_transformer = Pipeline(steps=[('scaler', MinMaxScaler())])\n",
    "\n",
    "categorical_transformer = Pipeline(steps=[('one_hot', OneHotEncoder(handle_unknown='ignore'))])\n",
    "    \n",
    "preprocessor = ColumnTransformer(\n",
    "        transformers=[\n",
    "            ('num', numeric_transformer, numerical_variables),\n",
    "            ('cat', categorical_transformer, categorical_variables)])"
   ]
  },
  {
   "cell_type": "code",
   "execution_count": 0,
   "metadata": {
    "colab": {},
    "colab_type": "code",
    "id": "UeGAY5u8X56N"
   },
   "outputs": [],
   "source": [
    "X=df.drop(['is_canceled','number_of_guests','reservation_status','previous_cancellations','previous_bookings_not_canceled'],axis=1)\n",
    "Y=df['is_canceled']\n",
    "\n",
    "X_train, X_test, Y_train, Y_test = train_test_split(X, Y, test_size=0.3)"
   ]
  },
  {
   "cell_type": "markdown",
   "metadata": {
    "colab_type": "text",
    "id": "h7zHKaz1r57v"
   },
   "source": [
    "### Logistic Regression Model:"
   ]
  },
  {
   "cell_type": "code",
   "execution_count": 0,
   "metadata": {
    "colab": {
     "base_uri": "https://localhost:8080/",
     "height": 151
    },
    "colab_type": "code",
    "id": "6skpbgCFWy0V",
    "outputId": "8b563d81-c87a-4dfc-c8d3-06d45f5f9f75"
   },
   "outputs": [
    {
     "name": "stderr",
     "output_type": "stream",
     "text": [
      "/usr/local/lib/python3.6/dist-packages/sklearn/linear_model/_logistic.py:940: ConvergenceWarning: lbfgs failed to converge (status=1):\n",
      "STOP: TOTAL NO. of ITERATIONS REACHED LIMIT.\n",
      "\n",
      "Increase the number of iterations (max_iter) or scale the data as shown in:\n",
      "    https://scikit-learn.org/stable/modules/preprocessing.html\n",
      "Please also refer to the documentation for alternative solver options:\n",
      "    https://scikit-learn.org/stable/modules/linear_model.html#logistic-regression\n",
      "  extra_warning_msg=_LOGISTIC_SOLVER_CONVERGENCE_MSG)\n"
     ]
    }
   ],
   "source": [
    "lr_model = Pipeline(steps=[('preprocessor', preprocessor),\n",
    "                           ('classifier', LogisticRegression())])\n",
    "\n",
    "lr_model.fit(X_train, Y_train)\n",
    "\n",
    "lr_y_pred = lr_model.predict(X_test)\n",
    "lr_y_score = lr_model.predict_proba(X_test)"
   ]
  },
  {
   "cell_type": "code",
   "execution_count": 0,
   "metadata": {
    "colab": {
     "base_uri": "https://localhost:8080/",
     "height": 67
    },
    "colab_type": "code",
    "id": "9MDi9YmocED3",
    "outputId": "dd0f8d39-4fde-4109-8ca8-22df42f4a30a"
   },
   "outputs": [
    {
     "name": "stdout",
     "output_type": "stream",
     "text": [
      "Accuracy in test data:  0.8596314626848978\n",
      "F1 Score: 0.7949346405228758\n",
      "AUROC: 0.9264949385701107\n"
     ]
    }
   ],
   "source": [
    "print('Accuracy in test data: ', accuracy_score(Y_test,lr_y_pred))\n",
    "print('F1 Score:',f1_score(Y_test,lr_y_pred))\n",
    "print('AUROC:',roc_auc_score(Y_test, lr_y_score[:,1]))"
   ]
  },
  {
   "cell_type": "code",
   "execution_count": 0,
   "metadata": {
    "colab": {
     "base_uri": "https://localhost:8080/",
     "height": 168
    },
    "colab_type": "code",
    "id": "KfED8ClwYzDG",
    "outputId": "1aaec717-77df-450c-8249-b9e6f182b37f"
   },
   "outputs": [
    {
     "name": "stdout",
     "output_type": "stream",
     "text": [
      "               precision    recall  f1-score   support\n",
      "\n",
      "not cancelled       0.85      0.93      0.89     22372\n",
      "    cancelled       0.86      0.73      0.79     13391\n",
      "\n",
      "     accuracy                           0.85     35763\n",
      "    macro avg       0.86      0.83      0.84     35763\n",
      " weighted avg       0.86      0.85      0.85     35763\n",
      "\n"
     ]
    }
   ],
   "source": [
    "print(classification_report(Y_test, lr_y_pred, target_names=['not cancelled','cancelled']))"
   ]
  },
  {
   "cell_type": "markdown",
   "metadata": {
    "colab_type": "text",
    "id": "EeS3Rfnjr97u"
   },
   "source": [
    "### Random Forest Model:"
   ]
  },
  {
   "cell_type": "code",
   "execution_count": 0,
   "metadata": {
    "colab": {},
    "colab_type": "code",
    "id": "7aJvbFH6cjiy"
   },
   "outputs": [],
   "source": [
    "rf_model = Pipeline(steps=[('preprocessor', preprocessor),\n",
    "                           ('classifier', RandomForestClassifier())])\n",
    "\n",
    "rf_model.fit(X_train, Y_train)\n",
    "\n",
    "rf_y_pred = rf_model.predict(X_test)\n",
    "rf_y_score = rf_model.predict_proba(X_test)"
   ]
  },
  {
   "cell_type": "code",
   "execution_count": 0,
   "metadata": {
    "colab": {
     "base_uri": "https://localhost:8080/",
     "height": 67
    },
    "colab_type": "code",
    "id": "VaQosCIyqAky",
    "outputId": "7b2726ab-415d-42c3-ab19-ed6a4025c97f"
   },
   "outputs": [
    {
     "name": "stdout",
     "output_type": "stream",
     "text": [
      "Accuracy in test data:  0.9055727987025697\n",
      "F1 Score: 0.8652810467945905\n",
      "AUROC: 0.9673216880483774\n"
     ]
    }
   ],
   "source": [
    "print('Accuracy in test data: ',accuracy_score(Y_test,rf_y_pred))\n",
    "print('F1 Score:',f1_score(Y_test,rf_y_pred))\n",
    "print('AUROC:',roc_auc_score(Y_test, rf_y_score[:,1]))"
   ]
  },
  {
   "cell_type": "code",
   "execution_count": 0,
   "metadata": {
    "colab": {
     "base_uri": "https://localhost:8080/",
     "height": 168
    },
    "colab_type": "code",
    "id": "0PDlhXpuc5LG",
    "outputId": "de5ee23d-804f-4baf-bc6d-5c4d9120c073"
   },
   "outputs": [
    {
     "name": "stdout",
     "output_type": "stream",
     "text": [
      "               precision    recall  f1-score   support\n",
      "\n",
      "not cancelled       0.89      0.96      0.93     22372\n",
      "    cancelled       0.93      0.81      0.87     13391\n",
      "\n",
      "     accuracy                           0.91     35763\n",
      "    macro avg       0.91      0.89      0.90     35763\n",
      " weighted avg       0.91      0.91      0.90     35763\n",
      "\n"
     ]
    }
   ],
   "source": [
    "print(classification_report(Y_test, rf_y_pred, target_names=['not cancelled','cancelled']))"
   ]
  },
  {
   "cell_type": "code",
   "execution_count": 0,
   "metadata": {
    "colab": {
     "base_uri": "https://localhost:8080/",
     "height": 438
    },
    "colab_type": "code",
    "id": "wbWlHmQoplMm",
    "outputId": "fbf16269-0fc5-4471-9c92-e505cb7dabc5"
   },
   "outputs": [
    {
     "data": {
      "text/plain": [
       "(array([0, 1, 2, 3, 4, 5, 6, 7, 8, 9]),\n",
       " <a list of 10 Text major ticklabel objects>)"
      ]
     },
     "execution_count": 16,
     "metadata": {
      "tags": []
     },
     "output_type": "execute_result"
    },
    {
     "data": {
      "image/png": "[encoded data removed]",
      "text/plain": [
       "<Figure size 432x288 with 1 Axes>"
      ]
     },
     "metadata": {
      "needs_background": "light",
      "tags": []
     },
     "output_type": "display_data"
    }
   ],
   "source": [
    "coefficients  = pd.DataFrame(rf_model.named_steps[\"classifier\"].feature_importances_)\n",
    "column_df1     = pd.DataFrame(rf_model.named_steps['preprocessor'].transformers_[1][1].named_steps['one_hot'].get_feature_names(categorical_variables))\n",
    "column_df2     = pd.DataFrame(list(numerical_variables))\n",
    "\n",
    "frames = [column_df2,column_df1]\n",
    "column_df = pd.concat(frames).reset_index(drop=True)\n",
    "\n",
    "coef_sumry    = (pd.merge(coefficients,column_df,left_index= True,\n",
    "                              right_index= True, how = \"left\"))\n",
    "coef_sumry.columns = [\"coefficients\",\"features\"]\n",
    "coef_sumry    = coef_sumry.sort_values(by = \"coefficients\",ascending = False).iloc[:10]\n",
    "\n",
    "ax = sns.barplot(x=\"features\", y=\"coefficients\", data=coef_sumry, color=\"g\")\n",
    "plt.xlabel('features')\n",
    "plt.ylabel('coefficients')\n",
    "plt.xticks(rotation=90)"
   ]
  },
  {
   "cell_type": "markdown",
   "metadata": {
    "colab_type": "text",
    "id": "SA92Wjt1hoUb"
   },
   "source": [
    "The below is Random forest using grid search and cross validation to identify the best compbination of parameters. It takes a while to run (2 minutes ish - in jupyter, about 15 min here) and turns out worse then the default settings. We could play around with the values in the grid to get better, but for now default RF is the way to go.\n",
    "\n",
    "\n"
   ]
  },
  {
   "cell_type": "code",
   "execution_count": 0,
   "metadata": {
    "colab": {
     "base_uri": "https://localhost:8080/",
     "height": 151
    },
    "colab_type": "code",
    "id": "6_1JZ_kBhPPB",
    "outputId": "d55458e9-8430-4ed0-f7ea-3fcd0b8fbc17"
   },
   "outputs": [
    {
     "name": "stdout",
     "output_type": "stream",
     "text": [
      "Fitting 5 folds for each of 24 candidates, totalling 120 fits\n"
     ]
    },
    {
     "name": "stderr",
     "output_type": "stream",
     "text": [
      "[Parallel(n_jobs=-1)]: Using backend LokyBackend with 2 concurrent workers.\n",
      "[Parallel(n_jobs=-1)]: Done  28 tasks      | elapsed:  4.9min\n",
      "[Parallel(n_jobs=-1)]: Done 120 out of 120 | elapsed: 19.0min finished\n"
     ]
    },
    {
     "data": {
      "text/plain": [
       "{'classifier__max_depth': 60,\n",
       " 'classifier__min_samples_leaf': 4,\n",
       " 'classifier__min_samples_split': 50,\n",
       " 'classifier__n_estimators': 60}"
      ]
     },
     "execution_count": 20,
     "metadata": {
      "tags": []
     },
     "output_type": "execute_result"
    }
   ],
   "source": [
    "# RF With Grid Search\n",
    "from sklearn.model_selection import GridSearchCV\n",
    "param_grid = {\n",
    "    'classifier__max_depth': [40, 60],\n",
    "    'classifier__min_samples_leaf': [4, 7],\n",
    "    'classifier__min_samples_split': [50, 75],\n",
    "    'classifier__n_estimators': [60, 80, 100]\n",
    "}\n",
    "\n",
    "rf_search = GridSearchCV(rf_model, param_grid, n_jobs=-1, cv=5, verbose = 3)\n",
    "rf_search.fit(X_train, Y_train)\n",
    "rf_search.best_params_"
   ]
  },
  {
   "cell_type": "code",
   "execution_count": 0,
   "metadata": {
    "colab": {
     "base_uri": "https://localhost:8080/",
     "height": 67
    },
    "colab_type": "code",
    "id": "s60obGPThlQQ",
    "outputId": "db88ac28-c6f4-4c60-fcb9-f683bfb13769"
   },
   "outputs": [
    {
     "name": "stdout",
     "output_type": "stream",
     "text": [
      "Accuracy in test data:  0.850907362357744\n",
      "F1 Score: 0.7673647469458987\n",
      "AUROC: 0.9390089126151067\n"
     ]
    }
   ],
   "source": [
    "rf_model_gs = Pipeline(steps=[('preprocessor', preprocessor),\n",
    "                           ('classifier', RandomForestClassifier(max_depth=60,n_estimators=60,min_samples_leaf=4,min_samples_split=50))])\n",
    "\n",
    "rf_model_gs.fit(X_train, Y_train)\n",
    "\n",
    "rf_y_pred_gs = rf_model_gs.predict(X_test)\n",
    "rf_y_score_gs = rf_model_gs.predict_proba(X_test)\n",
    "\n",
    "print('Accuracy in test data: ',accuracy_score(Y_test,rf_y_pred_gs))\n",
    "print('F1 Score:',f1_score(Y_test,rf_y_pred_gs))\n",
    "print('AUROC:',roc_auc_score(Y_test, rf_y_score_gs[:,1]))"
   ]
  },
  {
   "cell_type": "markdown",
   "metadata": {
    "colab_type": "text",
    "id": "8IsJGrgWwu_K"
   },
   "source": [
    "## Gradient Boosting Classifier\n",
    "\n",
    "I wanted to get a GB model working well before switching to XGB. As of right now it's not beating the default RF either. I can keep playing with the values in the grid to see if I can beat it, but I don't know if it's worth it at this point."
   ]
  },
  {
   "cell_type": "code",
   "execution_count": 0,
   "metadata": {
    "colab": {
     "base_uri": "https://localhost:8080/",
     "height": 67
    },
    "colab_type": "code",
    "id": "HSdUR04cxL5s",
    "outputId": "1ff0c185-f896-473f-c0eb-866f283bd95c"
   },
   "outputs": [
    {
     "name": "stdout",
     "output_type": "stream",
     "text": [
      "Accuracy in test data:  0.8447557531526997\n",
      "F1 Score: 0.7793147309007075\n",
      "AUROC: 0.9228515281945545\n"
     ]
    }
   ],
   "source": [
    "from sklearn.ensemble import GradientBoostingClassifier\n",
    "# GB without paramter tuning\n",
    "gb_model=Pipeline(steps=[('preprocessor', preprocessor),\n",
    "                           ('classifier', GradientBoostingClassifier())])\n",
    "gb_model.fit(X_train, Y_train)\n",
    "\n",
    "gb_y_pred = gb_model.predict(X_test)\n",
    "gb_y_score = gb_model.predict_proba(X_test)\n",
    "\n",
    "print('Accuracy in test data: ',accuracy_score(Y_test,gb_y_pred))\n",
    "print('F1 Score:',f1_score(Y_test,gb_y_pred))\n",
    "print('AUROC:',roc_auc_score(Y_test, gb_y_score[:,1]))"
   ]
  },
  {
   "cell_type": "code",
   "execution_count": 0,
   "metadata": {
    "colab": {
     "base_uri": "https://localhost:8080/",
     "height": 168
    },
    "colab_type": "code",
    "id": "75rmYcdIxiCp",
    "outputId": "b0f799a2-a97e-4595-af4f-5bba46a10bc7"
   },
   "outputs": [
    {
     "name": "stdout",
     "output_type": "stream",
     "text": [
      "Fitting 5 folds for each of 24 candidates, totalling 120 fits\n"
     ]
    },
    {
     "name": "stderr",
     "output_type": "stream",
     "text": [
      "[Parallel(n_jobs=-1)]: Using backend LokyBackend with 2 concurrent workers.\n",
      "[Parallel(n_jobs=-1)]: Done  28 tasks      | elapsed:  2.5min\n",
      "[Parallel(n_jobs=-1)]: Done 120 out of 120 | elapsed: 11.6min finished\n"
     ]
    },
    {
     "data": {
      "text/plain": [
       "{'classifier__max_depth': 15,\n",
       " 'classifier__max_features': 'sqrt',\n",
       " 'classifier__min_samples_leaf': 7,\n",
       " 'classifier__min_samples_split': 50,\n",
       " 'classifier__n_estimators': 90}"
      ]
     },
     "execution_count": 23,
     "metadata": {
      "tags": []
     },
     "output_type": "execute_result"
    }
   ],
   "source": [
    "# Tune  Parameters\n",
    "param_grid = {\n",
    "    'classifier__max_depth': [12, 15],\n",
    "    'classifier__max_features': [\"sqrt\"],\n",
    "    'classifier__min_samples_leaf': [7 , 15, 25],\n",
    "    'classifier__min_samples_split': [50 , 100],\n",
    "    'classifier__n_estimators': [70, 90]\n",
    "}\n",
    "\n",
    "gb_search = GridSearchCV(gb_model, param_grid, n_jobs=-1, cv=5, verbose = 3)\n",
    "gb_search.fit(X_train, Y_train)\n",
    "gb_search.best_params_"
   ]
  },
  {
   "cell_type": "code",
   "execution_count": 0,
   "metadata": {
    "colab": {
     "base_uri": "https://localhost:8080/",
     "height": 67
    },
    "colab_type": "code",
    "id": "kfGidpv6xjon",
    "outputId": "fa8a6516-22d2-4b20-811f-07dc8d4594bb"
   },
   "outputs": [
    {
     "name": "stdout",
     "output_type": "stream",
     "text": [
      "Accuracy in test data:  0.8773033582193888\n",
      "F1 Score: 0.8259558940187213\n",
      "AUROC: 0.9494253307422333\n"
     ]
    }
   ],
   "source": [
    "gb_model_gs = Pipeline(steps=[('preprocessor', preprocessor),\n",
    "                           ('classifier', GradientBoostingClassifier(max_depth=15,min_samples_leaf=7,min_samples_split=50,n_estimators=90,max_features='sqrt'))])\n",
    "\n",
    "gb_model_gs.fit(X_train, Y_train)\n",
    "\n",
    "gb_y_pred_gs = gb_model_gs.predict(X_test)\n",
    "gb_y_score_gs = gb_model_gs.predict_proba(X_test)\n",
    "\n",
    "print('Accuracy in test data: ',accuracy_score(Y_test,gb_y_pred_gs))\n",
    "print('F1 Score:',f1_score(Y_test,gb_y_pred_gs))\n",
    "print('AUROC:',roc_auc_score(Y_test, gb_y_score_gs[:,1]))"
   ]
  },
  {
   "cell_type": "markdown",
   "metadata": {
    "colab_type": "text",
    "id": "Xiu4z4zyA6nD"
   },
   "source": [
    "# XG Boost"
   ]
  },
  {
   "cell_type": "code",
   "execution_count": 0,
   "metadata": {
    "colab": {
     "base_uri": "https://localhost:8080/",
     "height": 67
    },
    "colab_type": "code",
    "id": "qV11EEerA5xD",
    "outputId": "5f989229-d2c5-4eb0-c89a-fb9c169a7944"
   },
   "outputs": [
    {
     "name": "stdout",
     "output_type": "stream",
     "text": [
      "Accuracy in test data:  0.8433017364315074\n",
      "F1 Score: 0.7753187394755834\n",
      "AUROC: 0.9218032543399627\n"
     ]
    }
   ],
   "source": [
    "import xgboost as xgb #xgb.XGBClassifier\n",
    "xgb_model=Pipeline(steps=[('preprocessor', preprocessor),\n",
    "                           ('classifier', xgb.XGBClassifier())])\n",
    "xgb_model.fit(X_train, Y_train)\n",
    "\n",
    "xgb_y_pred = xgb_model.predict(X_test)\n",
    "xgb_y_score = xgb_model.predict_proba(X_test)\n",
    "\n",
    "print('Accuracy in test data: ',accuracy_score(Y_test,xgb_y_pred))\n",
    "print('F1 Score:',f1_score(Y_test,xgb_y_pred))\n",
    "print('AUROC:',roc_auc_score(Y_test, xgb_y_score[:,1]))"
   ]
  },
  {
   "cell_type": "code",
   "execution_count": 0,
   "metadata": {
    "colab": {
     "base_uri": "https://localhost:8080/",
     "height": 218
    },
    "colab_type": "code",
    "id": "1J0IVkmn7BIq",
    "outputId": "c5567fbb-b8f6-43a4-bfb1-72a4e884af81"
   },
   "outputs": [
    {
     "name": "stdout",
     "output_type": "stream",
     "text": [
      "Fitting 3 folds for each of 243 candidates, totalling 729 fits\n"
     ]
    },
    {
     "name": "stderr",
     "output_type": "stream",
     "text": [
      "[Parallel(n_jobs=-1)]: Using backend LokyBackend with 2 concurrent workers.\n",
      "[Parallel(n_jobs=-1)]: Done  28 tasks      | elapsed:  2.0min\n",
      "[Parallel(n_jobs=-1)]: Done 124 tasks      | elapsed:  9.9min\n",
      "[Parallel(n_jobs=-1)]: Done 284 tasks      | elapsed: 23.5min\n",
      "[Parallel(n_jobs=-1)]: Done 508 tasks      | elapsed: 45.1min\n",
      "[Parallel(n_jobs=-1)]: Done 729 out of 729 | elapsed: 69.6min finished\n"
     ]
    },
    {
     "data": {
      "text/plain": [
       "{'classifier__colsample_bytree': 0.6,\n",
       " 'classifier__gamma': 0.5,\n",
       " 'classifier__max_depth': 5,\n",
       " 'classifier__min_child_weight': 1,\n",
       " 'classifier__subsample': 0.6}"
      ]
     },
     "execution_count": 27,
     "metadata": {
      "tags": []
     },
     "output_type": "execute_result"
    }
   ],
   "source": [
    "# Tune  Parameters\n",
    "param_grid = {\n",
    "        'classifier__min_child_weight': [1, 5, 10],\n",
    "        'classifier__gamma': [0.5, 1, 1.5],\n",
    "        'classifier__subsample': [0.6, 0.8, 1.0],\n",
    "        'classifier__colsample_bytree': [0.6, 0.8, 1.0],\n",
    "        'classifier__max_depth': [3, 4, 5]\n",
    "        }\n",
    "\n",
    "xgb_search = GridSearchCV(xgb_model, param_grid, n_jobs=-1, cv=3, verbose = 3)\n",
    "xgb_search.fit(X_train, Y_train)\n",
    "xgb_search.best_params_"
   ]
  },
  {
   "cell_type": "code",
   "execution_count": 0,
   "metadata": {
    "colab": {
     "base_uri": "https://localhost:8080/",
     "height": 67
    },
    "colab_type": "code",
    "id": "bRCsY0Yf7Yat",
    "outputId": "c5c8cadd-1d0b-4ef2-a12e-5f14d672b320"
   },
   "outputs": [
    {
     "name": "stdout",
     "output_type": "stream",
     "text": [
      "Accuracy in test data:  0.8585968738640495\n",
      "F1 Score: 0.8005206895191511\n",
      "AUROC: 0.9367294559380402\n"
     ]
    }
   ],
   "source": [
    "xgb_model_gs = Pipeline(steps=[('preprocessor', preprocessor),\n",
    "                               ('classifier', xgb.XGBClassifier(min_child_weight=1,gamma=0.5,subsample=0.6,colsample_bytree=0.6,max_depth=5))])\n",
    "\n",
    "xgb_model_gs.fit(X_train, Y_train)\n",
    "\n",
    "xgb_y_pred_gs = xgb_model_gs.predict(X_test)\n",
    "xgb_y_score_gs = xgb_model_gs.predict_proba(X_test)\n",
    "\n",
    "print('Accuracy in test data: ',accuracy_score(Y_test,xgb_y_pred_gs))\n",
    "print('F1 Score:',f1_score(Y_test,xgb_y_pred_gs))\n",
    "print('AUROC:',roc_auc_score(Y_test, xgb_y_score_gs[:,1]))"
   ]
  }
 ],
 "metadata": {
  "colab": {
   "collapsed_sections": [],
   "name": "Classification Analysis.ipynb",
   "provenance": []
  },
  "kernelspec": {
   "display_name": "Python 3",
   "language": "python",
   "name": "python3"
  },
  "language_info": {
   "codemirror_mode": {
    "name": "ipython",
    "version": 3
   },
   "file_extension": ".py",
   "mimetype": "text/x-python",
   "name": "python",
   "nbconvert_exporter": "python",
   "pygments_lexer": "ipython3",
   "version": "3.7.6"
  }
 },
 "nbformat": 4,
 "nbformat_minor": 1
}
